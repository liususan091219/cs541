{
  "nbformat": 4,
  "nbformat_minor": 0,
  "metadata": {
    "colab": {
      "provenance": []
    },
    "kernelspec": {
      "name": "python3",
      "display_name": "Python 3"
    },
    "language_info": {
      "name": "python"
    }
  },
  "cells": [
    {
      "cell_type": "markdown",
      "source": [
        "# CS 541-B Assignment 2 -- A * search and Uniform Cost Search on NYC Taxi dataset\n",
        "\n",
        "#### Name: Enter your Name here\n",
        "#### Stevens ID: Enter your Stevens ID here"
      ],
      "metadata": {
        "id": "Z9vH5X77EpLu"
      }
    },
    {
      "cell_type": "markdown",
      "source": [
        "## NYC Taxi Data\n",
        "---\n",
        "The task is to perform Uniform Cost Search and A∗ search. The dataset contains a list of the taxi trips made in NYC in the January 2015. \n",
        "\n",
        "Part 1. [20 pts] Represent the data as a graph. For the sake of simplicity, you can assume that edges are only between locations which had a valid taxi trip between them. \n",
        "\n",
        "Part 2. [20 pts] Implement the succAndCost fucntion that returns all the connected nodes from the passed node.\n",
        "And implement the heuristic fucntion using geopy\n",
        "\n",
        "#### Note: You can install geopy using the command\n",
        "     pip install geopy\n",
        "\n",
        "Part 3. [60 pts] \n",
        "\n",
        "\n",
        "*   Implement the Uniform Cost search where you can use the trip distances as the edge costs. The program should input two node ids from the user and output the path as well as the cost between them. \n",
        "*   Implement A∗ search using a heuristic. One idea of a heuristic value is to use straight line distance between 2 points. This can be computed using the geopy package. The program should input two node ids from the user and output the path as well as the cost between them. "
      ],
      "metadata": {
        "id": "ACGelXsAIpii"
      }
    },
    {
      "cell_type": "code",
      "execution_count": null,
      "metadata": {
        "id": "QV_IYemPuSes"
      },
      "outputs": [],
      "source": [
        "# Required libraries\n",
        "import pandas as pd\n",
        "from tqdm import tqdm\n",
        "from geopy import distance\n",
        "import heapq, collections, re, sys, time, os, random"
      ]
    },
    {
      "cell_type": "code",
      "source": [
        "\"\"\"\n",
        "    Download the datset from the below link\n",
        "\"\"\"\n",
        "!wget 'https://raw.githubusercontent.com/GABudhrani/Assignment_2_NYC_TAxi/main/NYC_dataset.csv'"
      ],
      "metadata": {
        "colab": {
          "base_uri": "https://localhost:8080/"
        },
        "id": "QwxMpJejuWdz",
        "outputId": "13e10bd2-7639-49d9-ed9f-92e8af1d1bc5"
      },
      "execution_count": null,
      "outputs": [
        {
          "output_type": "stream",
          "name": "stdout",
          "text": [
            "--2023-03-28 20:46:25--  https://raw.githubusercontent.com/GABudhrani/Assignment_2_NYC_TAxi/main/NYC_dataset.csv\n",
            "Resolving raw.githubusercontent.com (raw.githubusercontent.com)... 185.199.109.133, 185.199.111.133, 185.199.108.133, ...\n",
            "Connecting to raw.githubusercontent.com (raw.githubusercontent.com)|185.199.109.133|:443... connected.\n",
            "HTTP request sent, awaiting response... 200 OK\n",
            "Length: 8501184 (8.1M) [text/plain]\n",
            "Saving to: ‘NYC_dataset.csv.2’\n",
            "\n",
            "\rNYC_dataset.csv.2     0%[                    ]       0  --.-KB/s               \rNYC_dataset.csv.2   100%[===================>]   8.11M  --.-KB/s    in 0.09s   \n",
            "\n",
            "2023-03-28 20:46:25 (88.4 MB/s) - ‘NYC_dataset.csv.2’ saved [8501184/8501184]\n",
            "\n"
          ]
        }
      ]
    },
    {
      "cell_type": "code",
      "source": [
        "data_NYC = pd.read_csv(\"NYC_dataset.csv\")\n",
        "data_NYC.head(1)"
      ],
      "metadata": {
        "colab": {
          "base_uri": "https://localhost:8080/",
          "height": 81
        },
        "id": "QV17RQczuZ_b",
        "outputId": "cff9b91f-0292-45d1-f347-f4a3e8c5fc5b"
      },
      "execution_count": null,
      "outputs": [
        {
          "output_type": "execute_result",
          "data": {
            "text/plain": [
              "   pickup_longitude  pickup_latitude  dropoff_longitude  dropoff_latitude  \\\n",
              "0          -73.9641          40.7614            -73.978           40.7831   \n",
              "\n",
              "   trip_distance  nodeid1  nodeid2  \n",
              "0            2.4    48293    28440  "
            ],
            "text/html": [
              "\n",
              "  <div id=\"df-cff0da6d-b6ad-4f78-808b-c97dfab794ca\">\n",
              "    <div class=\"colab-df-container\">\n",
              "      <div>\n",
              "<style scoped>\n",
              "    .dataframe tbody tr th:only-of-type {\n",
              "        vertical-align: middle;\n",
              "    }\n",
              "\n",
              "    .dataframe tbody tr th {\n",
              "        vertical-align: top;\n",
              "    }\n",
              "\n",
              "    .dataframe thead th {\n",
              "        text-align: right;\n",
              "    }\n",
              "</style>\n",
              "<table border=\"1\" class=\"dataframe\">\n",
              "  <thead>\n",
              "    <tr style=\"text-align: right;\">\n",
              "      <th></th>\n",
              "      <th>pickup_longitude</th>\n",
              "      <th>pickup_latitude</th>\n",
              "      <th>dropoff_longitude</th>\n",
              "      <th>dropoff_latitude</th>\n",
              "      <th>trip_distance</th>\n",
              "      <th>nodeid1</th>\n",
              "      <th>nodeid2</th>\n",
              "    </tr>\n",
              "  </thead>\n",
              "  <tbody>\n",
              "    <tr>\n",
              "      <th>0</th>\n",
              "      <td>-73.9641</td>\n",
              "      <td>40.7614</td>\n",
              "      <td>-73.978</td>\n",
              "      <td>40.7831</td>\n",
              "      <td>2.4</td>\n",
              "      <td>48293</td>\n",
              "      <td>28440</td>\n",
              "    </tr>\n",
              "  </tbody>\n",
              "</table>\n",
              "</div>\n",
              "      <button class=\"colab-df-convert\" onclick=\"convertToInteractive('df-cff0da6d-b6ad-4f78-808b-c97dfab794ca')\"\n",
              "              title=\"Convert this dataframe to an interactive table.\"\n",
              "              style=\"display:none;\">\n",
              "        \n",
              "  <svg xmlns=\"http://www.w3.org/2000/svg\" height=\"24px\"viewBox=\"0 0 24 24\"\n",
              "       width=\"24px\">\n",
              "    <path d=\"M0 0h24v24H0V0z\" fill=\"none\"/>\n",
              "    <path d=\"M18.56 5.44l.94 2.06.94-2.06 2.06-.94-2.06-.94-.94-2.06-.94 2.06-2.06.94zm-11 1L8.5 8.5l.94-2.06 2.06-.94-2.06-.94L8.5 2.5l-.94 2.06-2.06.94zm10 10l.94 2.06.94-2.06 2.06-.94-2.06-.94-.94-2.06-.94 2.06-2.06.94z\"/><path d=\"M17.41 7.96l-1.37-1.37c-.4-.4-.92-.59-1.43-.59-.52 0-1.04.2-1.43.59L10.3 9.45l-7.72 7.72c-.78.78-.78 2.05 0 2.83L4 21.41c.39.39.9.59 1.41.59.51 0 1.02-.2 1.41-.59l7.78-7.78 2.81-2.81c.8-.78.8-2.07 0-2.86zM5.41 20L4 18.59l7.72-7.72 1.47 1.35L5.41 20z\"/>\n",
              "  </svg>\n",
              "      </button>\n",
              "      \n",
              "  <style>\n",
              "    .colab-df-container {\n",
              "      display:flex;\n",
              "      flex-wrap:wrap;\n",
              "      gap: 12px;\n",
              "    }\n",
              "\n",
              "    .colab-df-convert {\n",
              "      background-color: #E8F0FE;\n",
              "      border: none;\n",
              "      border-radius: 50%;\n",
              "      cursor: pointer;\n",
              "      display: none;\n",
              "      fill: #1967D2;\n",
              "      height: 32px;\n",
              "      padding: 0 0 0 0;\n",
              "      width: 32px;\n",
              "    }\n",
              "\n",
              "    .colab-df-convert:hover {\n",
              "      background-color: #E2EBFA;\n",
              "      box-shadow: 0px 1px 2px rgba(60, 64, 67, 0.3), 0px 1px 3px 1px rgba(60, 64, 67, 0.15);\n",
              "      fill: #174EA6;\n",
              "    }\n",
              "\n",
              "    [theme=dark] .colab-df-convert {\n",
              "      background-color: #3B4455;\n",
              "      fill: #D2E3FC;\n",
              "    }\n",
              "\n",
              "    [theme=dark] .colab-df-convert:hover {\n",
              "      background-color: #434B5C;\n",
              "      box-shadow: 0px 1px 3px 1px rgba(0, 0, 0, 0.15);\n",
              "      filter: drop-shadow(0px 1px 2px rgba(0, 0, 0, 0.3));\n",
              "      fill: #FFFFFF;\n",
              "    }\n",
              "  </style>\n",
              "\n",
              "      <script>\n",
              "        const buttonEl =\n",
              "          document.querySelector('#df-cff0da6d-b6ad-4f78-808b-c97dfab794ca button.colab-df-convert');\n",
              "        buttonEl.style.display =\n",
              "          google.colab.kernel.accessAllowed ? 'block' : 'none';\n",
              "\n",
              "        async function convertToInteractive(key) {\n",
              "          const element = document.querySelector('#df-cff0da6d-b6ad-4f78-808b-c97dfab794ca');\n",
              "          const dataTable =\n",
              "            await google.colab.kernel.invokeFunction('convertToInteractive',\n",
              "                                                     [key], {});\n",
              "          if (!dataTable) return;\n",
              "\n",
              "          const docLinkHtml = 'Like what you see? Visit the ' +\n",
              "            '<a target=\"_blank\" href=https://colab.research.google.com/notebooks/data_table.ipynb>data table notebook</a>'\n",
              "            + ' to learn more about interactive tables.';\n",
              "          element.innerHTML = '';\n",
              "          dataTable['output_type'] = 'display_data';\n",
              "          await google.colab.output.renderOutput(dataTable, element);\n",
              "          const docLink = document.createElement('div');\n",
              "          docLink.innerHTML = docLinkHtml;\n",
              "          element.appendChild(docLink);\n",
              "        }\n",
              "      </script>\n",
              "    </div>\n",
              "  </div>\n",
              "  "
            ]
          },
          "metadata": {},
          "execution_count": 30
        }
      ]
    },
    {
      "cell_type": "code",
      "source": [
        "def plot_nodes_edges(node1, node2, cost, graph):\n",
        "    \"\"\" Convert a graph in the format of pandas DF as Node 1, Node2, cost into dictionary. Replace the code between ##### with the correct implementation. \n",
        "\n",
        "        Note that your code needs to work for any input, not just for the one example below. \n",
        "\n",
        "        Input:\n",
        "              Node 1, Node 2, Cost(\ttrip_distance) \n",
        "              \n",
        "              example :- 48293, 28440, 2.40\n",
        "        Output: \n",
        "              return graph (Add Key as Node and value as its relevent node and cost)\n",
        "\n",
        "              Example :- \n",
        "              {48293: {2.4: 28440},\n",
        "               28440: {2.4: 48293}}\n",
        "              \"\"\"\n",
        "\n",
        "    node_cost = {}\n",
        "    ##############################################START HERE##############################################\n",
        "    # Part 1 (20 pt)\n",
        "  \n",
        "    graph = {1: {2.4: 2},\n",
        "               2: {2.4: 1}}\n",
        "    ##############################################END HERE################################################\n",
        "    return graph\n",
        "    \n",
        "\n",
        "def create_nodes_edges(dataset):\n",
        "    graph = {}\n",
        "    for i in tqdm(range(dataset.shape[0])):\n",
        "      graph = plot_nodes_edges(dataset.nodeid1[i], dataset.nodeid2[i], dataset.trip_distance[i], graph)\n",
        "      graph = plot_nodes_edges(dataset.nodeid2[i], dataset.nodeid1[i], dataset.trip_distance[i], graph)\n",
        "    return graph \n",
        "\n",
        "    \n",
        "def extract_longitude_latitude(dataset):\n",
        "    \"\"\" Input : \n",
        "              (nodeid1, pickup_latitude, pickup_longitude), Here we want to connect each node \n",
        "              with its pickup_longitude & pickup_latitude\n",
        "              (nodeid2, pickup_latitude, pickup_longitude), Here we want to connect each node \n",
        "              with its dropoff_longitude & dropoff_latitude\n",
        "        Output : \n",
        "              {node : [latitude, longitude]} \"\"\"\n",
        "    node_lat_long = {}\n",
        "    for i in tqdm(range(dataset.shape[0])):\n",
        "        node_lat_long[dataset.nodeid1[i]] = [dataset.pickup_latitude[i],dataset.pickup_longitude[i]]\n",
        "        node_lat_long[dataset.nodeid2[i]] = [dataset.dropoff_latitude[i],dataset.dropoff_longitude[i]]\n",
        "    return  node_lat_long"
      ],
      "metadata": {
        "id": "B7miUbyGudlc"
      },
      "execution_count": null,
      "outputs": []
    },
    {
      "cell_type": "code",
      "source": [
        "graph = create_nodes_edges(data_NYC)"
      ],
      "metadata": {
        "colab": {
          "base_uri": "https://localhost:8080/"
        },
        "id": "24viIfde6XWY",
        "outputId": "27fcc364-01f7-46d6-8e96-66634172f93f"
      },
      "execution_count": null,
      "outputs": [
        {
          "output_type": "stream",
          "name": "stderr",
          "text": [
            "100%|██████████| 168152/168152 [00:12<00:00, 13207.55it/s]\n"
          ]
        }
      ]
    },
    {
      "cell_type": "code",
      "source": [
        "# calling create_nodes_edges fucntion\n",
        "node_lat_long = extract_longitude_latitude(data_NYC)"
      ],
      "metadata": {
        "colab": {
          "base_uri": "https://localhost:8080/"
        },
        "id": "DYd3H8XpLUJ4",
        "outputId": "9b66ad69-5a3f-4165-cd25-d42723acae74"
      },
      "execution_count": null,
      "outputs": [
        {
          "output_type": "stream",
          "name": "stderr",
          "text": [
            "100%|██████████| 168152/168152 [00:12<00:00, 12994.63it/s]\n"
          ]
        }
      ]
    },
    {
      "cell_type": "code",
      "source": [
        "# Data structure for supporting uniform cost search.\n",
        "class PriorityQueue:\n",
        "    def  __init__(self):\n",
        "        self.DONE = -100000\n",
        "        self.heap = []\n",
        "        self.priorities = {}  # Map from state to priority\n",
        "\n",
        "    # Insert |state| into the heap with priority |newPriority| if\n",
        "    # |state| isn't in the heap or |newPriority| is smaller than the existing\n",
        "    # priority.\n",
        "    # Return whether the priority queue was updated.\n",
        "    def update(self, node, newCost, newHistory):\n",
        "        oldCost = self.priorities.get(node, None)\n",
        "        if oldCost == None or newCost < oldCost:\n",
        "            self.priorities[node] = newCost\n",
        "            heapq.heappush(self.heap, (newCost, node, newHistory))\n",
        "            return True\n",
        "        return False\n",
        "\n",
        "    # Returns (state with minimum priority, priority)\n",
        "    # or (None, None) if the priority queue is empty.\n",
        "    def removeMin(self):\n",
        "        while len(self.heap) > 0:\n",
        "            priority, state, history = heapq.heappop(self.heap)\n",
        "            if self.priorities[state] == self.DONE: continue  # Outdated priority, skip\n",
        "            self.priorities[state] = self.DONE\n",
        "            return (state, priority, history)\n",
        "        return (None, None, None) # Nothing left...\n"
      ],
      "metadata": {
        "id": "XzNDNujhwte8"
      },
      "execution_count": null,
      "outputs": []
    },
    {
      "cell_type": "code",
      "source": [
        "class PathFinding(object):\n",
        "    def __init__(self, graph, node_lat_long, start_position, end_position):\n",
        "        self.graph = graph\n",
        "        self.node_lat_long = node_lat_long\n",
        "        self.start_node = start_position\n",
        "        self.end_node = end_position\n",
        "        \n",
        "    def startState(self):\n",
        "        return self.start_node\n",
        "    \n",
        "    def succAndCost(self, current_node):\n",
        "        \"\"\" \n",
        "            In this Funciton we have to return all the nodes that are connected to the current_node. \n",
        "            \n",
        "            Note that your code needs to work for any input, not just for the one example below. \n",
        "\n",
        "            Input:\n",
        "                  curent_node\n",
        "            output: \n",
        "            children: all the nodes that are connected to the current node and it's cost.\n",
        "            Example: children = [(node1,cost1), (node2, cost2)]\n",
        "        \"\"\"\n",
        "        # Generate children\n",
        "        children = []\n",
        "        ##############################################START HERE##############################################\n",
        "        # Part 2.1 (10 pt)\n",
        "\n",
        "\n",
        "        ##############################################END HERE################################################        \n",
        "        return children\n",
        "    \n",
        "    def isEnd(self, current_node):\n",
        "        return self.end_node == current_node\n",
        "    \n",
        "    def heuristic(self, node):\n",
        "        \"\"\" \n",
        "          In this function you need to return the heuristic value of node. \n",
        "          Input: \n",
        "              Input will be the node\n",
        "          Output: \n",
        "              Output will the distance between the node and the end node, please use distance.geodesic to compute the actual distance between two nodes\n",
        "        \"\"\"\n",
        "        ##############################################START HERE##############################################\n",
        "          # Part 2.2 (10 pt)\n",
        "\n",
        "        return 0.0\n",
        "        ##############################################END HERE################################################\n",
        "        "
      ],
      "metadata": {
        "id": "iwwnPTi5wu5g"
      },
      "execution_count": null,
      "outputs": []
    },
    {
      "cell_type": "code",
      "source": [
        "def printSolution(solution):\n",
        "    totalCost, history = solution\n",
        "    print_history = 'Starting Node' \n",
        "    for node in history:\n",
        "        print_history += ' -> ' + str(node)\n",
        "    print(print_history)\n",
        "    print('totalCost: {}'.format(totalCost))"
      ],
      "metadata": {
        "id": "AsCMkYErwwNf"
      },
      "execution_count": null,
      "outputs": []
    },
    {
      "cell_type": "code",
      "source": [
        "def astar(problem):\n",
        "    frontier = PriorityQueue()\n",
        "    explored = set([])\n",
        "    \"\"\" \n",
        "        In this function you have to write an algorithm to calculate the path with the minimum cost using A* Search \n",
        "        by calculating it's heuristic cost. Replace the code between the #### with the correct implementation. \n",
        "        Input:\n",
        "              Input will be an object of the class PathFinding\n",
        "        Output:\n",
        "              return cost, history\n",
        "              (history: Path from start node to the end node\n",
        "              cost: Cost to travel from start node to end node)\n",
        "\n",
        "                              OR\n",
        "\n",
        "              return -1, []\n",
        "              (if no path is found between Start node and End node)\n",
        "    \"\"\"\n",
        "\n",
        "    ##############################################START HERE##############################################\n",
        "    # Part 3 (30 pt)\n",
        "\n",
        "    return 0, [1,2]\n",
        "    ##############################################END HERE################################################"
      ],
      "metadata": {
        "id": "B0oK37-oMjpl"
      },
      "execution_count": null,
      "outputs": []
    },
    {
      "cell_type": "code",
      "source": [
        "def UCS(problem):\n",
        "    \"\"\" \n",
        "        In this function you have to write an algorithm to calculate the path with the minimum cost using Uniform Cost Search and UCS \n",
        "        by calculating it's heuristic cost, cost respectively. Replace the code between the #### with the correct implementation. \n",
        "        Input:\n",
        "              Input will be an object of the class PathFinding\n",
        "        Output:\n",
        "              return cost, history\n",
        "              (history: Path from start node to the end node\n",
        "              cost: Cost to travel from start node to end node)\n",
        "\n",
        "                              OR\n",
        "\n",
        "              return -1, [] \n",
        "              (if no path is found between Start node and End node)\n",
        "    \"\"\"\n",
        "    frontier = PriorityQueue()\n",
        "    explored = set([])\n",
        "    ##############################################START HERE##############################################\n",
        "    # Part 3 (30 pt)\n",
        "\n",
        "\n",
        "\n",
        "    return 0, [1,2]\n",
        "    ##############################################END HERE################################################"
      ],
      "metadata": {
        "id": "sQZj2NSwM-aC"
      },
      "execution_count": null,
      "outputs": []
    },
    {
      "cell_type": "code",
      "source": [
        "\"\"\"\n",
        "    Below are some of the test cases that you can try\n",
        "    Start Node = 129891 | End Node = 7381\n",
        "    Start Node = 51080 | End Node 79375\n",
        "\n",
        "\"\"\"\n",
        "start_node = 7381\n",
        "end_node = 10666\n",
        "problem = PathFinding(graph, node_lat_long, start_node, end_node) "
      ],
      "metadata": {
        "id": "jQ1SvEnQObUO"
      },
      "execution_count": null,
      "outputs": []
    },
    {
      "cell_type": "code",
      "source": [
        "# Astart Algorithm\n",
        "# Calling the function\n",
        "astart_path_cost = astar(problem)\n",
        "\n",
        "# Checking if returned value have cost and history or not\n",
        "if astart_path_cost[0] != -1:\n",
        "    printSolution(astart_path_cost)"
      ],
      "metadata": {
        "colab": {
          "base_uri": "https://localhost:8080/"
        },
        "id": "uxiej_VcM8D4",
        "outputId": "2319e3b4-0745-439f-cd38-437148c23425"
      },
      "execution_count": null,
      "outputs": [
        {
          "output_type": "stream",
          "name": "stdout",
          "text": [
            "Starting Node -> 1 -> 2\n",
            "totalCost: 0\n"
          ]
        }
      ]
    },
    {
      "cell_type": "code",
      "source": [
        "# UCS Algorithm\n",
        "# Calling the function\n",
        "astart_path_cost = UCS(problem)\n",
        "\n",
        "# Checking if returned value have cost and history or not\n",
        "if astart_path_cost[0] != -1:\n",
        "    printSolution(astart_path_cost)"
      ],
      "metadata": {
        "colab": {
          "base_uri": "https://localhost:8080/"
        },
        "id": "pEPR9rrINn9w",
        "outputId": "b7fe1672-7bb1-4cb2-d907-fff7a268d8ac"
      },
      "execution_count": null,
      "outputs": [
        {
          "output_type": "stream",
          "name": "stdout",
          "text": [
            "Starting Node -> 1 -> 2\n",
            "totalCost: 0\n"
          ]
        }
      ]
    }
  ]
}